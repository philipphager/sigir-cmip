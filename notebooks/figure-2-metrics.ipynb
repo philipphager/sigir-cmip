{
 "cells": [
  {
   "cell_type": "code",
   "execution_count": null,
   "id": "36402f80",
   "metadata": {
    "pycharm": {
     "name": "#%%\n"
    }
   },
   "outputs": [],
   "source": [
    "import altair as alt\n",
    "\n",
    "from pathlib import Path\n",
    "\n",
    "from src.data import WandbLoader"
   ]
  },
  {
   "cell_type": "code",
   "execution_count": null,
   "id": "9a1c34d6",
   "metadata": {
    "pycharm": {
     "name": "#%%\n"
    }
   },
   "outputs": [],
   "source": [
    "experiment_name = \"sigir-cmip\"\n",
    "run_name = \"pbm\"\n",
    "\n",
    "loader = WandbLoader(\n",
    "    \"your-entity\",\n",
    "    \"your-project\",\n",
    "    experiment_name,\n",
    "    run_name,\n",
    ")\n",
    "\n",
    "output_directory = Path(f\"figures/{experiment_name}/{run_name}\")\n",
    "output_directory.mkdir(parents=True, exist_ok=True)"
   ]
  },
  {
   "cell_type": "code",
   "execution_count": null,
   "id": "af0b693c",
   "metadata": {
    "pycharm": {
     "name": "#%%\n"
    },
    "scrolled": true
   },
   "outputs": [],
   "source": [
    "df = loader.load_metrics()\n",
    "df.head()"
   ]
  },
  {
   "cell_type": "markdown",
   "id": "6be2d14f",
   "metadata": {
    "pycharm": {
     "name": "#%% md\n"
    }
   },
   "source": [
    "# Plot metrics bar chart"
   ]
  },
  {
   "cell_type": "code",
   "execution_count": null,
   "id": "fb11ef4d",
   "metadata": {
    "pycharm": {
     "name": "#%%\n"
    }
   },
   "outputs": [],
   "source": [
    "user_model = \"GradedPBM\"\n",
    "train_policy = \"NoisyOraclePolicy\"\n",
    "test_policy = \"UniformPolicy\""
   ]
  },
  {
   "cell_type": "markdown",
   "id": "899f1ff0",
   "metadata": {
    "pycharm": {
     "name": "#%% md\n"
    }
   },
   "source": [
    "## Fetch in-distribution ppl and out-of-distribution ppl"
   ]
  },
  {
   "cell_type": "code",
   "execution_count": null,
   "id": "ccd33865",
   "metadata": {
    "pycharm": {
     "name": "#%%\n"
    }
   },
   "outputs": [],
   "source": [
    "columns = [\"model\", \"user_model\", \"train_policy\", \"random_state\", \"test/ppl\"]\n",
    "\n",
    "ind_df = df[\n",
    "    (df[\"user_model\"] == user_model)\n",
    "    & (df[\"train_policy\"] == train_policy)\n",
    "    & (df[\"test_policy\"] == train_policy)\n",
    "][columns]\n",
    "\n",
    "ind_df = ind_df.rename(columns={\n",
    "    \"test/ppl\": \"in-distribution PPL\"\n",
    "})"
   ]
  },
  {
   "cell_type": "code",
   "execution_count": null,
   "id": "b7868ca5",
   "metadata": {
    "pycharm": {
     "name": "#%%\n"
    }
   },
   "outputs": [],
   "source": [
    "columns = [\"model\", \"user_model\", \"train_policy\", \"test_policy\", \"random_state\", \"test/nDCG\", \"test/cmi\", \"test/ppl\"]\n",
    "\n",
    "ood_df = df[\n",
    "    (df[\"user_model\"] == user_model)\n",
    "    & (df[\"train_policy\"] == train_policy)\n",
    "    & (df[\"test_policy\"] == test_policy)\n",
    "][columns]\n",
    "\n",
    "ood_df = ood_df.rename(columns={\n",
    "    \"test/nDCG\": \"nDCG\",\n",
    "    \"test/cmi\": \"CMIP\",\n",
    "    \"test/ppl\": \"out-of-distribution PPL\"\n",
    "})"
   ]
  },
  {
   "cell_type": "code",
   "execution_count": null,
   "id": "5c536b64",
   "metadata": {
    "pycharm": {
     "name": "#%%\n"
    }
   },
   "outputs": [],
   "source": [
    "chart_df = ind_df.merge(ood_df, on=[\"model\", \"user_model\", \"train_policy\", \"random_state\"])\n",
    "chart_df = chart_df.melt(\n",
    "    [\"model\", \"user_model\", \"train_policy\", \"test_policy\", \"random_state\",],\n",
    "    var_name=\"metric\",\n",
    ")\n",
    "chart_df.head()"
   ]
  },
  {
   "cell_type": "markdown",
   "id": "d67f2fcf",
   "metadata": {
    "pycharm": {
     "name": "#%% md\n"
    }
   },
   "source": [
    "## Plot"
   ]
  },
  {
   "cell_type": "code",
   "execution_count": null,
   "id": "fac4cfdb",
   "metadata": {
    "pycharm": {
     "name": "#%%\n"
    }
   },
   "outputs": [],
   "source": [
    "def theme():\n",
    "    return {\n",
    "        \"config\": {\n",
    "             \"title\": {\n",
    "                \"font\": \"serif\",\n",
    "                \"fontWeight\": \"normal\",\n",
    "                \"fontSize\": 20,\n",
    "            },\n",
    "            \"axis\": {\n",
    "                \"titleFont\": \"serif\",\n",
    "                \"titleFontWeight\": \"normal\",\n",
    "                \"titleFontSize\": 20,\n",
    "                \"labelFont\": \"serif\",\n",
    "                \"labelFontWeight\": \"normal\",\n",
    "                \"labelFontSize\": 16\n",
    "            }\n",
    "        },\n",
    "    }"
   ]
  },
  {
   "cell_type": "code",
   "execution_count": null,
   "id": "6bc70655",
   "metadata": {
    "pycharm": {
     "name": "#%%\n"
    },
    "scrolled": true
   },
   "outputs": [],
   "source": [
    "def plot_metric(df, metric, title, width, height, y_domain, x_title=\"\"):\n",
    "    chart = alt.Chart(\n",
    "        df[df[\"metric\"] == metric],\n",
    "        title=title,\n",
    "        width=width,\n",
    "        height=height,\n",
    "\n",
    "    )\n",
    "\n",
    "    bars = chart.mark_bar().encode(\n",
    "        x=alt.X(\"model\", title=x_title),\n",
    "        y=alt.Y(\"mean(value)\", title=\"\", scale=alt.Scale(domain=y_domain)),\n",
    "        color=alt.Color(\"model\", legend=None),\n",
    "    )\n",
    "\n",
    "    ci = chart.mark_errorbar(extent=\"ci\").encode(\n",
    "        x=alt.X(\"model\"),\n",
    "        y=alt.Y(\"value\", title=\"\"),\n",
    "        strokeWidth=alt.value(3)\n",
    "    )\n",
    "\n",
    "    return bars + ci\n",
    "\n",
    "def plot(df, width, height):\n",
    "    top = alt.hconcat(\n",
    "        plot_metric(chart_df, metric=\"in-distribution PPL\", title=\"in-distribution PPL⭣\", width=width, height=height, y_domain=(1.195, 1.21)),\n",
    "        plot_metric(chart_df, metric=\"out-of-distribution PPL\", title=\"out-of-distribution PPL⭣\", width=width, height=height, y_domain=(1.18, 1.24))\n",
    "    )\n",
    "\n",
    "    bottom = alt.hconcat(\n",
    "        plot_metric(chart_df, metric=\"nDCG\", title=\"nDCG⭡\", x_title=\"models\", width=width, height=height, y_domain=(0.4, 1)),\n",
    "        plot_metric(chart_df, metric=\"CMIP\", title=\"CMIP⭣\", x_title=\"models\", width=width, height=height, y_domain=(-0.03, 0.2))\n",
    "    )\n",
    "\n",
    "    return alt.vconcat(top, bottom)\n",
    "\n",
    "alt.themes.register(\"latex\", theme)\n",
    "alt.themes.enable(\"latex\")\n",
    "chart = plot(df, 175, 150)\n",
    "chart.save(output_directory / f\"{user_model}-{train_policy}-{test_policy}.pdf\")\n",
    "chart"
   ]
  }
 ],
 "metadata": {
  "kernelspec": {
   "display_name": "Python 3 (ipykernel)",
   "language": "python",
   "name": "python3"
  },
  "language_info": {
   "codemirror_mode": {
    "name": "ipython",
    "version": 3
   },
   "file_extension": ".py",
   "mimetype": "text/x-python",
   "name": "python",
   "nbconvert_exporter": "python",
   "pygments_lexer": "ipython3",
   "version": "3.9.16"
  }
 },
 "nbformat": 4,
 "nbformat_minor": 5
}
