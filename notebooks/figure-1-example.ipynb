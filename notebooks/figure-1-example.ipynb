{
 "cells": [
  {
   "cell_type": "code",
   "execution_count": null,
   "id": "36402f80",
   "metadata": {
    "pycharm": {
     "name": "#%%\n"
    }
   },
   "outputs": [],
   "source": [
    "import altair as alt\n",
    "\n",
    "from pathlib import Path\n",
    "\n",
    "from src.data import WandbLoader\n",
    "\n",
    "alt.data_transformers.disable_max_rows()"
   ]
  },
  {
   "cell_type": "code",
   "execution_count": null,
   "id": "9a1c34d6",
   "metadata": {
    "pycharm": {
     "name": "#%%\n"
    }
   },
   "outputs": [],
   "source": [
    "experiment_name = \"sigir-cmip\"\n",
    "run_name = \"visual-example\"\n",
    "\n",
    "loader = WandbLoader(\n",
    "    \"your-entity\",\n",
    "    \"your-project\",\n",
    "    experiment_name,\n",
    "    run_name,\n",
    ")\n",
    "\n",
    "output_directory = Path(f\"figures/{experiment_name}/{run_name}\")\n",
    "output_directory.mkdir(parents=True, exist_ok=True)"
   ]
  },
  {
   "cell_type": "markdown",
   "id": "6be2d14f",
   "metadata": {
    "pycharm": {
     "name": "#%% md\n"
    }
   },
   "source": [
    "# Plot visual example for CMIP"
   ]
  },
  {
   "cell_type": "code",
   "execution_count": null,
   "id": "fb11ef4d",
   "metadata": {
    "pycharm": {
     "name": "#%%\n"
    }
   },
   "outputs": [],
   "source": [
    "user_model = \"GradedPBM\"\n",
    "train_policy = \"NoisyOraclePolicy\"\n",
    "test_policy = \"UniformPolicy\"\n",
    "models = [\"DCTR\", \"PBM\"]\n",
    "temperature = 1\n",
    "random_state = 43670"
   ]
  },
  {
   "cell_type": "code",
   "execution_count": null,
   "id": "163e7155",
   "metadata": {
    "pycharm": {
     "name": "#%%\n"
    },
    "scrolled": true
   },
   "outputs": [],
   "source": [
    "policy_df = loader.load_policy_scores(user_model, train_policy, test_policy, models, temperature)\n",
    "metric_df = loader.load_metrics()\n",
    "metric_df.head()"
   ]
  },
  {
   "cell_type": "code",
   "execution_count": null,
   "id": "43c35b22",
   "metadata": {
    "pycharm": {
     "name": "#%%\n"
    }
   },
   "outputs": [],
   "source": [
    "policy_df = policy_df[policy_df.random_state == random_state]\n",
    "\n",
    "metric_df = metric_df[\n",
    "    (metric_df[\"user_model\"] == user_model)\n",
    "    & (metric_df[\"train_policy\"] == train_policy)\n",
    "    & (metric_df[\"test_policy\"] == test_policy)\n",
    "    & (metric_df[\"model\"].isin(models))\n",
    "    & (metric_df[\"temperature\"] == temperature)\n",
    "]"
   ]
  },
  {
   "cell_type": "markdown",
   "id": "d67f2fcf",
   "metadata": {
    "pycharm": {
     "name": "#%% md\n"
    }
   },
   "source": [
    "## Plot"
   ]
  },
  {
   "cell_type": "code",
   "execution_count": null,
   "id": "fac4cfdb",
   "metadata": {
    "pycharm": {
     "name": "#%%\n"
    }
   },
   "outputs": [],
   "source": [
    "def theme():\n",
    "    return {\n",
    "        \"config\": {\n",
    "             \"title\": {\n",
    "                \"font\": \"serif\",\n",
    "                \"fontWeight\": \"normal\",\n",
    "                \"fontSize\": 16,\n",
    "                \"dx\": 5\n",
    "            },\n",
    "            \"axis\": {\n",
    "                \"titleFont\": \"serif\",\n",
    "                \"titleFontWeight\": \"normal\",\n",
    "                \"titleFontSize\": 16,\n",
    "                \"labelFont\": \"serif\",\n",
    "                \"labelFontWeight\": \"normal\",\n",
    "                \"labelFontSize\": 16\n",
    "            },\n",
    "            \"headerColumn\": {\n",
    "                \"titleFont\": \"serif\",\n",
    "                \"titleFontWeight\": \"normal\",\n",
    "                \"titleFontSize\": 16,\n",
    "                \"labelFont\": \"serif\",\n",
    "                \"labelFontWeight\": \"normal\",\n",
    "                \"labelFontSize\": 16\n",
    "            },\n",
    "            \"text\": {\n",
    "                \"font\": \"serif\",\n",
    "                \"fontSize\": 14,\n",
    "            }\n",
    "        },\n",
    "    }"
   ]
  },
  {
   "cell_type": "code",
   "execution_count": null,
   "id": "e6a93995",
   "metadata": {
    "pycharm": {
     "name": "#%%\n"
    }
   },
   "outputs": [],
   "source": [
    "metric_df = metric_df.rename(columns={\n",
    "    \"test/nDCG\": \"nDCG\",\n",
    "    \"test/cmi\": \"CMIP\",\n",
    "})\n",
    "\n",
    "metric_df = metric_df.melt(\n",
    "    [\"model\", \"user_model\", \"train_policy\", \"test_policy\", \"random_state\",],\n",
    "    [\"CMIP\", \"nDCG\"],\n",
    "    var_name=\"metric\",\n",
    ")"
   ]
  },
  {
   "cell_type": "code",
   "execution_count": null,
   "id": "dad961c6",
   "metadata": {
    "pycharm": {
     "name": "#%%\n"
    }
   },
   "outputs": [],
   "source": [
    "def plot_policy(policy_df, model: str, width: int, height: int, is_first=False):\n",
    "    return alt.Chart(\n",
    "        policy_df[policy_df[\"model\"] == model],\n",
    "        width=width,\n",
    "        height=height\n",
    "    ).mark_point(opacity=0.5).encode(\n",
    "        column=alt.Column(\n",
    "            \"y:O\",\n",
    "            title=\"True relevance\" if is_first else None,\n",
    "            spacing=5,\n",
    "            header=alt.Header(labels=is_first, titlePadding=0, labelPadding=5),\n",
    "        ),\n",
    "        x=alt.X(\"y_logging_policy\", axis=alt.Axis(values=[0, 2, 4, 6]), title=\"Logging policy\" if not is_first else None),\n",
    "        y=alt.Y(\"y_predict\", title=model),\n",
    "    )\n",
    "    \n",
    "    return scatter\n",
    "\n",
    "def plot_metric(metric_df, model, metric, title, width, height, domain, text_spacing=-10):\n",
    "    source = metric_df[\n",
    "        (metric_df[\"model\"] == model)\n",
    "        & (metric_df[\"metric\"] == metric)\n",
    "    ].copy()\n",
    "    \n",
    "    base = alt.Chart(\n",
    "        source,\n",
    "        title=title,\n",
    "        width=width,\n",
    "        height=height,\n",
    "    )\n",
    "    \n",
    "    bar = alt.Chart(\n",
    "        source,\n",
    "        title=title,\n",
    "        width=width,\n",
    "        height=height\n",
    "    ).mark_bar().encode(\n",
    "        y=alt.Y(\"mean(value)\",\n",
    "        title=\"\",\n",
    "        scale=alt.Scale(domain=domain, nice=False, zero=False)),\n",
    "        color=alt.Color(\"metric\", legend=None),\n",
    "    )\n",
    "\n",
    "    text = bar.mark_text(\n",
    "        align=\"center\",\n",
    "        baseline=\"middle\",\n",
    "        dy=text_spacing,\n",
    "    ).encode(\n",
    "        text=alt.Text(\"mean(value):Q\", format=\",.3f\")\n",
    "    )\n",
    "    \n",
    "    return bar + text\n",
    "\n",
    "def plot(metric_df, policy_df, scatter_width = 100, bar_width = 50, height=100):\n",
    "    dctr = (\n",
    "        plot_policy(policy_df, \"DCTR\", scatter_width, height, is_first=True)\n",
    "        | plot_metric(metric_df, \"DCTR\", \"CMIP\", \"CMIP⭣\", bar_width, height, (0, 0.22))\n",
    "        | plot_metric(metric_df, \"DCTR\", \"nDCG\", \"nDCG⭡\", bar_width, height, (0, 1.2))\n",
    "    )\n",
    "    \n",
    "    pbm = (\n",
    "        plot_policy(policy_df, \"PBM\", scatter_width, height)\n",
    "        | plot_metric(metric_df, \"PBM\", \"CMIP\", \"CMIP⭣\", bar_width, height, (0, 0.22), text_spacing=-15)\n",
    "        | plot_metric(metric_df, \"PBM\", \"nDCG\", \"nDCG⭡\", bar_width, height, (0, 1.2))\n",
    "    )\n",
    "    \n",
    "    \n",
    "    return alt.vconcat(dctr, pbm, spacing=-5)\n",
    "\n",
    "alt.themes.register(\"latex\", theme)\n",
    "alt.themes.enable(\"latex\")\n",
    "chart = plot(metric_df, policy_df.groupby([\"model\", \"y\"]).head(300))\n",
    "# chart.save(output_directory / \"CMIP-DCTR-PBM.pdf\")\n",
    "chart"
   ]
  }
 ],
 "metadata": {
  "kernelspec": {
   "display_name": "Python 3 (ipykernel)",
   "language": "python",
   "name": "python3"
  },
  "language_info": {
   "codemirror_mode": {
    "name": "ipython",
    "version": 3
   },
   "file_extension": ".py",
   "mimetype": "text/x-python",
   "name": "python",
   "nbconvert_exporter": "python",
   "pygments_lexer": "ipython3",
   "version": "3.9.16"
  }
 },
 "nbformat": 4,
 "nbformat_minor": 5
}